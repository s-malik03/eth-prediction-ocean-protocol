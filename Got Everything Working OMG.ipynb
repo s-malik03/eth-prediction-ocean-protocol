{
 "cells": [
  {
   "cell_type": "code",
   "execution_count": 5,
   "id": "443cc653",
   "metadata": {},
   "outputs": [],
   "source": [
    "#imports\n",
    "import datetime\n",
    "import numpy as np\n",
    "from pathlib import Path\n",
    "import os\n",
    "import time\n",
    "\n",
    "import matplotlib\n",
    "import matplotlib.pyplot as plt\n",
    "    \n",
    "from ocean_lib.example_config import ExampleConfig\n",
    "from ocean_lib.ocean.ocean import Ocean\n",
    "from ocean_lib.web3_internal.wallet import Wallet\n",
    "\n",
    "\n",
    "#helper functions: setup\n",
    "def create_ocean_instance() -> Ocean:\n",
    "    config = ExampleConfig.get_config(\"https://polygon-rpc.com\") # points to Polygon mainnet\n",
    "    config[\"BLOCK_CONFIRMATIONS\"] = 1 #faster\n",
    "    ocean = Ocean(config)\n",
    "    return ocean\n",
    "\n",
    "\n",
    "def create_alice_wallet(ocean: Ocean) -> Wallet:\n",
    "    config = ocean.config_dict\n",
    "    alice_private_key = os.getenv('REMOTE_TEST_PRIVATE_KEY1')\n",
    "    alice_wallet = Wallet(ocean.web3, alice_private_key, config[\"BLOCK_CONFIRMATIONS\"], config[\"TRANSACTION_TIMEOUT\"])\n",
    "    bal = ocean.from_wei(alice_wallet.web3.eth.get_balance(alice_wallet.address))\n",
    "    print(f\"alice_wallet.address={alice_wallet.address}. bal={bal}\")\n",
    "    assert bal > 0, f\"Alice needs MATIC\"\n",
    "    return alice_wallet\n",
    "\n",
    "\n",
    "#helper functions: time\n",
    "def to_unixtime(dt: datetime.datetime):\n",
    "    return time.mktime(dt.timetuple())\n",
    "\n",
    "\n",
    "def to_unixtimes(dts: list) -> list:\n",
    "    return [to_unixtime(dt) for dt in dts]\n",
    "\n",
    "\n",
    "def to_datetime(ut) -> datetime.datetime:\n",
    "    return datetime.datetime.utcfromtimestamp(ut)\n",
    "\n",
    "\n",
    "def to_datetimes(uts: list) -> list:\n",
    "    return [to_datetime(ut) for ut in uts]\n",
    "\n",
    "\n",
    "def round_to_nearest_hour(dt: datetime.datetime) -> datetime.datetime:\n",
    "    return (dt.replace(second=0, microsecond=0, minute=0, hour=dt.hour)\n",
    "            + datetime.timedelta(hours=dt.minute//30))\n",
    "\n",
    "\n",
    "def pretty_time(dt: datetime.datetime) -> str:\n",
    "    return dt.strftime('%Y/%m/%d, %H:%M:%S')\n",
    "\n",
    "\n",
    "def print_datetime_info(descr:str, uts: list):\n",
    "    dts = to_datetimes(uts)\n",
    "    print(descr + \":\")\n",
    "    print(f\"  starts on: {pretty_time(dts[0])}\")\n",
    "    print(f\"    ends on: {pretty_time(dts[-1])}\")\n",
    "    print(f\"  {len(dts)} datapoints\")\n",
    "    print(f\"  time interval between datapoints: {(dts[1]-dts[0])}\")\n",
    "\n",
    "\n",
    "def target_12h_unixtimes(start_dt: datetime.datetime) -> list:\n",
    "    target_dts = [start_dt + datetime.timedelta(hours=h) for h in range(12)]\n",
    "    target_uts = to_unixtimes(target_dts)\n",
    "    return target_uts\n",
    "\n",
    "\n",
    "#helper-functions: higher level\n",
    "def load_from_ohlc_data(file_name: str) -> tuple:\n",
    "    \"\"\"Returns (list_of_unixtimes, list_of_close_prices)\"\"\"\n",
    "    with open(file_name, \"r\") as file:\n",
    "        data_str = file.read().rstrip().replace('\"', '')\n",
    "    x = eval(data_str) #list of lists\n",
    "    uts = [xi[0]/1000 for xi in x]\n",
    "    vals = [xi[4] for xi in x]\n",
    "    return (uts, vals)\n",
    "\n",
    "\n",
    "def filter_to_target_uts(target_uts:list, unfiltered_uts:list, unfiltered_vals:list) -> list:\n",
    "    \"\"\"Return filtered_vals -- values at at the target timestamps\"\"\"\n",
    "    filtered_vals = [None] * len(target_uts)\n",
    "    for i, target_ut in enumerate(target_uts):\n",
    "        time_diffs = np.abs(np.asarray(unfiltered_uts) - target_ut)\n",
    "        tol_s = 1 #should always align within e.g. 1 second\n",
    "        target_ut_s = pretty_time(to_datetime(target_ut))\n",
    "        assert min(time_diffs) <= tol_s, \\\n",
    "            f\"Unfiltered times is missing target time: {target_ut_s}\"\n",
    "        j = np.argmin(time_diffs)\n",
    "        filtered_vals[i] = unfiltered_vals[j]\n",
    "    return filtered_vals\n",
    "\n",
    "\n",
    "#helpers: save/load list\n",
    "def save_list(list_: list, file_name: str):\n",
    "    \"\"\"Save a file shaped: [1.2, 3.4, 5.6, ..]\"\"\"\n",
    "    p = Path(file_name)\n",
    "    p.write_text(str(list_))\n",
    "\n",
    "\n",
    "def load_list(file_name: str) -> list:\n",
    "    \"\"\"Load from a file shaped: [1.2, 3.4, 5.6, ..]\"\"\"\n",
    "    p = Path(file_name)\n",
    "    s = p.read_text()\n",
    "    list_ = eval(s)\n",
    "    return list_\n",
    "\n",
    "\n",
    "#helpers: prediction performance\n",
    "def calc_nmse(y, yhat) -> float:\n",
    "    assert len(y) == len(yhat)\n",
    "    mse_xy = np.sum(np.square(np.asarray(y) - np.asarray(yhat)))\n",
    "    mse_x = np.sum(np.square(np.asarray(y)))\n",
    "    nmse = mse_xy / mse_x\n",
    "    return nmse\n",
    "\n",
    "\n",
    "def plot_prices(cex_vals, pred_vals):\n",
    "    matplotlib.rcParams.update({'font.size': 22})\n",
    "    \n",
    "    x = [h for h in range(0,12)]\n",
    "    assert len(x) == len(cex_vals) == len(pred_vals)\n",
    "    \n",
    "    fig, ax = plt.subplots()\n",
    "    ax.plot(x, cex_vals, '--', label=\"CEX values\")\n",
    "    ax.plot(x, pred_vals, '-', label=\"Pred. values\")\n",
    "    ax.legend(loc='lower right')\n",
    "    plt.ylabel(\"ETH price\")\n",
    "    plt.xlabel(\"Hour\")\n",
    "    fig.set_size_inches(18, 18)\n",
    "    plt.xticks(x)\n",
    "    plt.show()\n"
   ]
  },
  {
   "cell_type": "code",
   "execution_count": 4,
   "id": "bf52fc8a",
   "metadata": {},
   "outputs": [
    {
     "name": "stdout",
     "output_type": "stream",
     "text": [
      "alice_wallet.address=0x19081dEd691eE3Cb1A45B19ae68Dd8d2A911b2e3. bal=4.924948875111925708\n"
     ]
    }
   ],
   "source": [
    "os.environ[\"REMOTE_TEST_PRIVATE_KEY1\"] = \"c418c07d9291f16f8ae12b8121cff4207ea873c9f5dd0908ee6c2bdbd13de6b0\"\n",
    "ocean = create_ocean_instance()\n",
    "alice_wallet = create_alice_wallet(ocean)"
   ]
  },
  {
   "cell_type": "code",
   "execution_count": 7,
   "id": "bf774bd2",
   "metadata": {},
   "outputs": [
    {
     "name": "stdout",
     "output_type": "stream",
     "text": [
      "target times:\n",
      "  starts on: 2022/11/04, 15:00:00\n",
      "    ends on: 2022/11/05, 02:00:00\n",
      "  12 datapoints\n",
      "  time interval between datapoints: 1:00:00\n",
      "allcex times:\n",
      "  starts on: 2022/10/15, 20:00:00\n",
      "    ends on: 2022/11/05, 15:00:00\n",
      "  500 datapoints\n",
      "  time interval between datapoints: 1:00:00\n"
     ]
    },
    {
     "data": {
      "text/plain": [
       "[1624.97,\n",
       " 1621.9,\n",
       " 1622.83,\n",
       " 1637.51,\n",
       " 1648.29,\n",
       " 1645.55,\n",
       " 1648.37,\n",
       " 1649.66,\n",
       " 1644.78,\n",
       " 1658.28,\n",
       " 1653.72,\n",
       " 1648.97]"
      ]
     },
     "execution_count": 7,
     "metadata": {},
     "output_type": "execute_result"
    }
   ],
   "source": [
    "start_dt = datetime.datetime.now() - datetime.timedelta(hours=24) #must be >= 12h ago\n",
    "start_dt = round_to_nearest_hour(start_dt) # so that times line up\n",
    "target_uts = target_12h_unixtimes(start_dt)\n",
    "print_datetime_info(\"target times\", target_uts)\n",
    "\n",
    "import ccxt\n",
    "allcex_x = ccxt.binance().fetch_ohlcv('ETH/USDT', '1h')\n",
    "allcex_uts = [xi[0]/1000 for xi in allcex_x]\n",
    "allcex_vals = [xi[4] for xi in allcex_x]\n",
    "print_datetime_info(\"allcex times\", allcex_uts)\n",
    "\n",
    "cex_vals = filter_to_target_uts(target_uts, allcex_uts, allcex_vals)\n",
    "\n",
    "cex_vals"
   ]
  },
  {
   "cell_type": "code",
   "execution_count": null,
   "id": "51758180",
   "metadata": {},
   "outputs": [],
   "source": [
    "nmse = calc_nmse(cex_vals, pred_vals)\n",
    "print(f\"NMSE = {nmse}\")\n",
    "plot_prices(cex_vals, pred_vals)"
   ]
  },
  {
   "cell_type": "code",
   "execution_count": 7,
   "id": "ccd97486",
   "metadata": {},
   "outputs": [],
   "source": [
    "import pandas as pd\n",
    "df = pd.DataFrame({'x':[1,2,3,4]})\n",
    "df.to_csv('test.csv')"
   ]
  },
  {
   "cell_type": "code",
   "execution_count": 9,
   "id": "3c7a898b",
   "metadata": {},
   "outputs": [
    {
     "name": "stdout",
     "output_type": "stream",
     "text": [
      "\n",
      "RUN COMMAND: bundlr price 19 -c matic -h https://node1.bundlr.network \n",
      "Price for 19 bytes in matic is 45240962932936 wei (0.000045240962932936 matic)\n",
      "\n",
      "\n",
      "RUN COMMAND: bundlr balance 0x19081dEd691eE3Cb1A45B19ae68Dd8d2A911b2e3 -c matic -h https://node1.bundlr.network\n",
      "Balance: 0 wei (0 matic)\n",
      "\n",
      "\n",
      "RUN COMMAND: bundlr fund 90481925865872 -c matic -h https://node1.bundlr.network -w c418c0... --no-confirmation\n",
      "Loaded address: 0x19081ded691ee3cb1a45b19ae68dd8d2a911b2e3\n",
      "Funding receipt: \n",
      "Amount: 90481925865872 with Fee: \"1258230441930000\" to 0xb4DE0833771eae55040b698aF5eB06d59E142C82 \n",
      "Transaction ID: 0x6945a080161e93a68ddd56177c298d16a63f0595d51614af667509a637e8d653 \n",
      "\n",
      "\n",
      "RUN COMMAND: bundlr upload test.csv -c matic -h https://node1.bundlr.network -w c418c0... --no-confirmation\n",
      "Loaded address: 0x19081ded691ee3cb1a45b19ae68dd8d2a911b2e3\n",
      "Uploaded to https://arweave.net/raXN4s7KTvPWelcHyVsb2AGBgTlCS5Ro4X_Vajs0twA\n",
      "\n",
      "Your csv url: https://arweave.net/raXN4s7KTvPWelcHyVsb2AGBgTlCS5Ro4X_Vajs0twA\n"
     ]
    }
   ],
   "source": [
    "from pybundlr import pybundlr\n",
    "file_name = \"test.csv\"\n",
    "url = pybundlr.fund_and_upload(file_name, \"matic\", alice_wallet.private_key)\n",
    "#e.g. url = \"https://arweave.net/qctEbPb3CjvU8LmV3G_mynX74eCxo1domFQIlOBH1xU\"\n",
    "print(f\"Your csv url: {url}\")"
   ]
  },
  {
   "cell_type": "code",
   "execution_count": 10,
   "id": "7617d579",
   "metadata": {},
   "outputs": [
    {
     "name": "stderr",
     "output_type": "stream",
     "text": [
      "INFO:ocean:Successfully created NFT with address 0xD0003D2E38A7f3c5b44B6c735b7CFC612b76849A.\n",
      "INFO:ocean:Successfully created datatoken with address 0xC1E2A2E9a64F9f939Ac8Ee832F3126DC8FfFc2e0.\n",
      "INFO:ocean_lib.data_provider.data_encryptor:Asset urls encrypted successfully, encrypted urls str: 0x04d4be89435e368518e608d0232f9f27f8c5ed1d84f1df945cdb9db7175857e1eb43482b2e1620452b9324f367f95aab94f27a3c433cc36fc9f65805b7f01773126f758c42ac6c6b7879adc795565814fa47bc86e3625addaca41be0af1b4eb560ff7cbd037991539e82b5f11c99505cb2ac282199a5ea989af6899abefc818db26f70370b6fc7c51b5fe08cf3ebb5f28be402a129555dfeac656e3359ca5251e79eedc8e095a6303af18701006620f225db75dc736d71c014b01feaedecdb665dbb1e6faf6f4ac4eae595b1a9b06fc2c9b73a171b07117eeff0c48727132dd81d423fbcccf5f8d6d4a208532717c4b0c17c21827d56b7cd82fbc7e253f9a7e200f771fa4b13f2a4cd1b96f86c1747cf3972e1e199bd9c89b27751618342bdaa3cfb83be907bed91d66755c685ab9c46cf2757f693443ec87f289ff578, encryptedEndpoint https://v4.provider.polygon.oceanprotocol.com/api/services/encrypt\n",
      "INFO:ocean_lib.data_provider.data_encryptor:Asset urls encrypted successfully, encrypted urls str: 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, encryptedEndpoint https://v4.provider.polygon.oceanprotocol.com/api/services/encrypt\n"
     ]
    },
    {
     "name": "stdout",
     "output_type": "stream",
     "text": [
      "New asset created, with did=did:op:89e955c20de109b33ab5a2ddc30e80cd24123ad46257d2866f5f168703237fac, and datatoken.address=0xC1E2A2E9a64F9f939Ac8Ee832F3126DC8FfFc2e0\n"
     ]
    }
   ],
   "source": [
    "name = \"Test CSV Data OMGSquad \" + str(time.time()) #time for unique name\n",
    "(data_nft, datatoken, asset) = ocean.assets.create_url_asset(name, url, alice_wallet, wait_for_aqua=False)\n",
    "data_nft.set_metadata_state(metadata_state=5, from_wallet=alice_wallet)\n",
    "print(f\"New asset created, with did={asset.did}, and datatoken.address={datatoken.address}\")"
   ]
  },
  {
   "cell_type": "code",
   "execution_count": null,
   "id": "6e8586e3",
   "metadata": {},
   "outputs": [],
   "source": []
  }
 ],
 "metadata": {
  "kernelspec": {
   "display_name": "Python 3 (ipykernel)",
   "language": "python",
   "name": "python3"
  },
  "language_info": {
   "codemirror_mode": {
    "name": "ipython",
    "version": 3
   },
   "file_extension": ".py",
   "mimetype": "text/x-python",
   "name": "python",
   "nbconvert_exporter": "python",
   "pygments_lexer": "ipython3",
   "version": "3.10.7"
  }
 },
 "nbformat": 4,
 "nbformat_minor": 5
}
